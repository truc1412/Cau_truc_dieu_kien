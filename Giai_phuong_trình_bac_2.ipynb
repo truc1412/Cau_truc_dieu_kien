{
 "cells": [
  {
   "cell_type": "code",
   "execution_count": 12,
   "id": "f4991669",
   "metadata": {},
   "outputs": [
    {
     "name": "stdout",
     "output_type": "stream",
     "text": [
      "Nhập a: 1\n",
      "Nhập b: -12\n",
      "Nhập c: 27\n",
      "Phương trình có nghiệm x1= 9.0\n",
      "Phương trình có nghiệm x2= 3.0\n"
     ]
    }
   ],
   "source": [
    "import math\n",
    "a=int(input(\"Nhập a: \"))\n",
    "b=int(input(\"Nhập b: \"))\n",
    "c=int(input(\"Nhập c: \"))\n",
    "if a==0 :\n",
    "    if (b==0):\n",
    "        print(\"Phương trình vô số nghiệm\")\n",
    "    else:\n",
    "        x=-c/b\n",
    "        print(\"Nghiệm của phương trình là x=\",x)\n",
    "else:\n",
    "    d=(b**2)-(4*a*c)\n",
    "    if (d<0):\n",
    "        print(\"Phương trình vô nghiệm\")\n",
    "    elif (d==0):\n",
    "        x=-b/(2*a)\n",
    "        print(\"Phương trình có nghiệm kép x1=x2=\",x)\n",
    "    elif (d>0):\n",
    "        x1=(-b+math.sqrt(d))/2*a\n",
    "        x2=(-b-math.sqrt(d))/2*a\n",
    "        print(\"Phương trình có nghiệm x1=\",x1)\n",
    "        print(\"Phương trình có nghiệm x2=\",x2)"
   ]
  },
  {
   "cell_type": "code",
   "execution_count": null,
   "id": "b9612c9b",
   "metadata": {},
   "outputs": [],
   "source": []
  },
  {
   "cell_type": "code",
   "execution_count": null,
   "id": "08e98616",
   "metadata": {},
   "outputs": [],
   "source": []
  }
 ],
 "metadata": {
  "kernelspec": {
   "display_name": "Python 3 (ipykernel)",
   "language": "python",
   "name": "python3"
  },
  "language_info": {
   "codemirror_mode": {
    "name": "ipython",
    "version": 3
   },
   "file_extension": ".py",
   "mimetype": "text/x-python",
   "name": "python",
   "nbconvert_exporter": "python",
   "pygments_lexer": "ipython3",
   "version": "3.9.13"
  }
 },
 "nbformat": 4,
 "nbformat_minor": 5
}
